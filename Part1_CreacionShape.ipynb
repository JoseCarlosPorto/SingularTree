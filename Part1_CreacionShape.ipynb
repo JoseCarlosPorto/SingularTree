{
  "nbformat": 4,
  "nbformat_minor": 0,
  "metadata": {
    "colab": {
      "name": "PrimeraAproximacionSingularTree.ipynb",
      "provenance": [],
      "authorship_tag": "ABX9TyO6vjDctJ1DOVDTj2LKvrG+",
      "include_colab_link": true
    },
    "kernelspec": {
      "name": "python3",
      "display_name": "Python 3"
    },
    "language_info": {
      "name": "python"
    }
  },
  "cells": [
    {
      "cell_type": "markdown",
      "metadata": {
        "id": "view-in-github",
        "colab_type": "text"
      },
      "source": [
        "<a href=\"https://colab.research.google.com/github/JoseCarlosPorto/SingularTree/blob/main/Part1_CreacionShape.ipynb\" target=\"_parent\"><img src=\"https://colab.research.google.com/assets/colab-badge.svg\" alt=\"Open In Colab\"/></a>"
      ]
    },
    {
      "cell_type": "markdown",
      "metadata": {
        "id": "mdMY6jy2w0qz"
      },
      "source": [
        "Este script no funciona. No da abierto la dirección del csv."
      ]
    },
    {
      "cell_type": "code",
      "metadata": {
        "id": "TrIHyoYFTtJ3"
      },
      "source": [
        "#Vamos a intentar cargar aquí el script de Carolina de creación de shapefiles a partir de csv\n",
        "\n",
        "import ogr\n",
        "import osr\n",
        "\n",
        "# Create output shapefile\n",
        "driver = ogr.GetDriverByName('ESRI Shapefile')\n",
        "data_src = driver.CreateDataSource('TreesCyL.shp')\n",
        "srs = osr.SpatialReference()\n",
        "srs.ImportFromEPSG(4326)\n",
        "layer = data_src.CreateLayer(\"TreesCyL.shp\", srs, geom_type=ogr.wkbPoint)\n",
        "\n",
        "# Create attribute fields\n",
        "field_id = ogr.FieldDefn(\"tree_id\", ogr.OFTString)  # podria ser integer?\n",
        "field_id.SetWidth(10)\n",
        "layer.CreateField(field_id)\n",
        "\n",
        "field_code = ogr.FieldDefn(\"tree_code\", ogr.OFTString)\n",
        "field_code.SetWidth(8)\n",
        "layer.CreateField(field_code)\n",
        "\n",
        "layer.CreateField(ogr.FieldDefn(\"genus\", ogr.OFTString))\n",
        "layer.CreateField(ogr.FieldDefn(\"species\", ogr.OFTString))\n",
        "layer.CreateField(ogr.FieldDefn(\"dbh\", ogr.OFTReal))\n",
        "layer.CreateField(ogr.FieldDefn(\"ht\", ogr.OFTReal))\n",
        "layer.CreateField(ogr.FieldDefn(\"longitude\", ogr.OFTReal))\n",
        "layer.CreateField(ogr.FieldDefn(\"latitude\", ogr.OFTReal))\n",
        "\n",
        "with open(\"https://raw.githubusercontent.com/JoseCarlosPorto/SingularTree/main/arboles.csv\", \"r\") as csv_file:\n",
        "    csv_reader = csv_reader(csv_file)\n",
        "    for row in csv_reader:\n",
        "        feature = ogr.Feature(layer.GetLayerDefn())\n",
        "        feature.SetField(\"tree_id\", row[0])\n",
        "        feature.SetField(\"tree_code\", row[1])\n",
        "        feature.SetField(\"genus\", row[2])\n",
        "        feature.SetField(\"species\", row[3])\n",
        "        feature.SetField(\"dbh\", row[4])\n",
        "        feature.SetField(\"ht\", row[5])\n",
        "        feature.SetField(\"longitude\", row[6])\n",
        "        feature.SetField(\"latitude\", row[7])\n",
        "\n",
        "        # Create point geometry in LAT/LON\n",
        "        point = org.Geometry(ogr.wkbPoint)\n",
        "        point.Addpoint(row[6], row[7])\n",
        "\n",
        "        # Create de feature and set the values\n",
        "        feature.SetGeometry(point)\n",
        "        layer.CreateFeature(feature)\n",
        "\n",
        "        feature = None\n",
        "    data_src = None"
      ],
      "execution_count": null,
      "outputs": []
    },
    {
      "cell_type": "markdown",
      "metadata": {
        "id": "K-P7bWZ2xHau"
      },
      "source": [
        "Este script no funciona. SE CONSIGUE ABRIR EL CSV pero no se crea el shapefile"
      ]
    },
    {
      "cell_type": "code",
      "metadata": {
        "id": "I3dVlXUCX8v4"
      },
      "source": [
        "\n",
        "import ogr\n",
        "import osr\n",
        "import pandas as pd\n",
        "import csv\n",
        "\n",
        "# Create output shapefile\n",
        "driver = ogr.GetDriverByName('ESRI Shapefile')\n",
        "data_src = driver.CreateDataSource('TreesCyL.shp')\n",
        "srs = osr.SpatialReference()\n",
        "srs.ImportFromEPSG(4326)\n",
        "layer = data_src.CreateLayer(\"TreesCyL.shp\", srs, geom_type=ogr.wkbPoint)\n",
        "\n",
        "# Create attribute fields\n",
        "field_id = ogr.FieldDefn(\"tree_id\", ogr.OFTString)  # podria ser integer?\n",
        "field_id.SetWidth(10)\n",
        "layer.CreateField(field_id)\n",
        "\n",
        "field_code = ogr.FieldDefn(\"tree_code\", ogr.OFTString)\n",
        "field_code.SetWidth(8)\n",
        "layer.CreateField(field_code)\n",
        "\n",
        "layer.CreateField(ogr.FieldDefn(\"genus\", ogr.OFTString))\n",
        "layer.CreateField(ogr.FieldDefn(\"species\", ogr.OFTString))\n",
        "layer.CreateField(ogr.FieldDefn(\"dbh\", ogr.OFTReal))\n",
        "layer.CreateField(ogr.FieldDefn(\"ht\", ogr.OFTReal))\n",
        "layer.CreateField(ogr.FieldDefn(\"longitude\", ogr.OFTReal))\n",
        "layer.CreateField(ogr.FieldDefn(\"latitude\", ogr.OFTReal))\n",
        "\n",
        "#Abrimos el csv aquí de una forma diferente a Carolina, pero funciona.\n",
        "\n",
        "url = 'https://raw.githubusercontent.com/JoseCarlosPorto/SingularTree/main/arboles.csv'\n",
        "\n",
        "df = pd.read_csv(url)\n",
        "\n",
        "tree_id = df['tree_id']\n",
        "tree_code = df['tree_code']\n",
        "genus = df['genus']\n",
        "species = df['species']\n",
        "dbh = df['dbh']\n",
        "ht = df['ht']\n",
        "longitude = df['longitude']\n",
        "latitude = df['latitude']\n",
        "\n",
        "for i in range(0,3): #Aquí debería ponerse directamente la longitud del csv para automatizar, en vez de 3.\n",
        "    feature = ogr.Feature(layer.GetLayerDefn())\n",
        "    feature.SetField(\"tree_id\", int(tree_id[i]))\n",
        "    feature.SetField(\"tree_code\", tree_code[i])\n",
        "    feature.SetField(\"genus\", genus[i])\n",
        "    feature.SetField(\"species\", species[i])\n",
        "    feature.SetField(\"dbh\", dbh[i])\n",
        "    feature.SetField(\"ht\", ht[i])\n",
        "    feature.SetField(\"longitude\", longitude[i])\n",
        "    feature.SetField(\"latitude\", latitude[i])\n",
        "\n",
        "    # Create point geometry in LAT/LON\n",
        "    point = ogr.Geometry(ogr.wkbPoint)\n",
        "    point.Addpoint(int(latitude[i]),int(longitude[i]))\n",
        "\n",
        "    # Create de feature and set the values\n",
        "    feature.SetGeometry(point)\n",
        "    layer.CreateFeature(feature)\n",
        "\n",
        "    feature = None\n",
        "data_src = None"
      ],
      "execution_count": null,
      "outputs": []
    },
    {
      "cell_type": "markdown",
      "metadata": {
        "id": "lAxuxPWixOBl"
      },
      "source": [
        "Este script Funciona. Simplemente abre el csv usando la libreria pandas. Igual no nos interesa crear un shapefile, hay que ir viendo. Por lo menos aquí ya poderiamos acceder a la longitud y latitud de un csv enorme."
      ]
    },
    {
      "cell_type": "code",
      "metadata": {
        "id": "VJaCHRMYsRwk",
        "outputId": "ba0c0d36-b15e-4bf5-ba91-829ea2fd0869",
        "colab": {
          "base_uri": "https://localhost:8080/"
        }
      },
      "source": [
        "import pandas as pd\n",
        "\n",
        "#Definimos la url del csv que está en GitHub, pero ojo, en modo raw.\n",
        "\n",
        "url = 'https://raw.githubusercontent.com/JoseCarlosPorto/SingularTree/main/arboles.csv'\n",
        "\n",
        "#Llamamos df el dataframe que contiene la totalidad del csv\n",
        "\n",
        "df = pd.read_csv(url)\n",
        "\n",
        "#Se crea listas, aunque no son listas como tal, de cada uno de los campos del csv.\n",
        "\n",
        "tree_id = df['tree_id']\n",
        "tree_code = df['tree_code']\n",
        "genus = df['genus']\n",
        "species = df['species']\n",
        "dbh = df['dbh']\n",
        "ht = df['ht']\n",
        "longitude = df['longitude']\n",
        "latitude = df['latitude']\n",
        "\n",
        "#Con el bucle este se podría acceder a cada una de las lineas a nuestro antojo para trabajar con las coordenadas.\n",
        "\n",
        "for i in range(0,3): #Aquí debería ponerse directamente la longitud del csv para automatizar, en vez de 3.\n",
        "  print(tree_code[i], genus[i])\n",
        "\n",
        "  #IDEA: Cojer aquí las coordenadas y empezar a crear con ellas el buffer sobre el dataset correspondiente\n",
        "  #IDEA: Igual se podría cargar previamente el dataset, para tenerlo ya abierto antes de entrar en el bucle.\n",
        "  #Habría que ver como convertir estas coordenadas en punto que coincida con el sistema de coordenaadas\n",
        "  #Y despues aplicarle el buffer\n",
        "  #Quizás habría que ver de guardar desde aquí el propio output que se obtenga.\n"
      ],
      "execution_count": 68,
      "outputs": [
        {
          "output_type": "stream",
          "text": [
            "AS-AV-01 Fraxinus\n",
            "AS-AV-03 Quercus\n",
            "AS-AV-06 Pinus\n"
          ],
          "name": "stdout"
        }
      ]
    },
    {
      "cell_type": "markdown",
      "metadata": {
        "id": "6_4QU-NCwx5x"
      },
      "source": [
        ""
      ]
    }
  ]
}