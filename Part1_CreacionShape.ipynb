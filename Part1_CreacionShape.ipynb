{
  "nbformat": 4,
  "nbformat_minor": 0,
  "metadata": {
    "colab": {
      "name": "PrimeraAproximacionSingularTree.ipynb",
      "provenance": [],
      "authorship_tag": "ABX9TyMtBo+jDhY1wt/HOAv5pFzI",
      "include_colab_link": true
    },
    "kernelspec": {
      "name": "python3",
      "display_name": "Python 3"
    },
    "language_info": {
      "name": "python"
    }
  },
  "cells": [
    {
      "cell_type": "markdown",
      "metadata": {
        "id": "view-in-github",
        "colab_type": "text"
      },
      "source": [
        "<a href=\"https://colab.research.google.com/github/JoseCarlosPorto/SingularTree/blob/main/Part1_CreacionShape.ipynb\" target=\"_parent\"><img src=\"https://colab.research.google.com/assets/colab-badge.svg\" alt=\"Open In Colab\"/></a>"
      ]
    },
    {
      "cell_type": "markdown",
      "metadata": {
        "id": "mdMY6jy2w0qz"
      },
      "source": [
        "Este script no funciona. No da abierto la dirección del csv."
      ]
    },
    {
      "cell_type": "code",
      "metadata": {
        "id": "TrIHyoYFTtJ3"
      },
      "source": [
        "#Vamos a intentar cargar aquí el script de Carolina de creación de shapefiles a partir de csv\n",
        "\n",
        "import ogr\n",
        "import osr\n",
        "\n",
        "# Create output shapefile\n",
        "driver = ogr.GetDriverByName('ESRI Shapefile')\n",
        "data_src = driver.CreateDataSource('TreesCyL.shp')\n",
        "srs = osr.SpatialReference()\n",
        "srs.ImportFromEPSG(4326)\n",
        "layer = data_src.CreateLayer(\"TreesCyL.shp\", srs, geom_type=ogr.wkbPoint)\n",
        "\n",
        "# Create attribute fields\n",
        "field_id = ogr.FieldDefn(\"tree_id\", ogr.OFTString)  # podria ser integer?\n",
        "field_id.SetWidth(10)\n",
        "layer.CreateField(field_id)\n",
        "\n",
        "field_code = ogr.FieldDefn(\"tree_code\", ogr.OFTString)\n",
        "field_code.SetWidth(8)\n",
        "layer.CreateField(field_code)\n",
        "\n",
        "layer.CreateField(ogr.FieldDefn(\"genus\", ogr.OFTString))\n",
        "layer.CreateField(ogr.FieldDefn(\"species\", ogr.OFTString))\n",
        "layer.CreateField(ogr.FieldDefn(\"dbh\", ogr.OFTReal))\n",
        "layer.CreateField(ogr.FieldDefn(\"ht\", ogr.OFTReal))\n",
        "layer.CreateField(ogr.FieldDefn(\"longitude\", ogr.OFTReal))\n",
        "layer.CreateField(ogr.FieldDefn(\"latitude\", ogr.OFTReal))\n",
        "\n",
        "with open(\"https://raw.githubusercontent.com/JoseCarlosPorto/SingularTree/main/arboles.csv\", \"r\") as csv_file:\n",
        "    csv_reader = csv_reader(csv_file)\n",
        "    for row in csv_reader:\n",
        "        feature = ogr.Feature(layer.GetLayerDefn())\n",
        "        feature.SetField(\"tree_id\", row[0])\n",
        "        feature.SetField(\"tree_code\", row[1])\n",
        "        feature.SetField(\"genus\", row[2])\n",
        "        feature.SetField(\"species\", row[3])\n",
        "        feature.SetField(\"dbh\", row[4])\n",
        "        feature.SetField(\"ht\", row[5])\n",
        "        feature.SetField(\"longitude\", row[6])\n",
        "        feature.SetField(\"latitude\", row[7])\n",
        "\n",
        "        # Create point geometry in LAT/LON\n",
        "        point = org.Geometry(ogr.wkbPoint)\n",
        "        point.Addpoint(row[6], row[7])\n",
        "\n",
        "        # Create de feature and set the values\n",
        "        feature.SetGeometry(point)\n",
        "        layer.CreateFeature(feature)\n",
        "\n",
        "        feature = None\n",
        "    data_src = None"
      ],
      "execution_count": null,
      "outputs": []
    },
    {
      "cell_type": "markdown",
      "metadata": {
        "id": "K-P7bWZ2xHau"
      },
      "source": [
        "Este script no funciona. SE CONSIGUE ABRIR EL CSV pero no se crea el shapefile"
      ]
    },
    {
      "cell_type": "code",
      "metadata": {
        "id": "I3dVlXUCX8v4"
      },
      "source": [
        "\n",
        "import ogr\n",
        "import osr\n",
        "import pandas as pd\n",
        "import csv\n",
        "\n",
        "# Create output shapefile\n",
        "driver = ogr.GetDriverByName('ESRI Shapefile')\n",
        "data_src = driver.CreateDataSource('TreesCyL.shp')\n",
        "srs = osr.SpatialReference()\n",
        "srs.ImportFromEPSG(4326)\n",
        "layer = data_src.CreateLayer(\"TreesCyL.shp\", srs, geom_type=ogr.wkbPoint)\n",
        "\n",
        "# Create attribute fields\n",
        "field_id = ogr.FieldDefn(\"tree_id\", ogr.OFTString)  # podria ser integer?\n",
        "field_id.SetWidth(10)\n",
        "layer.CreateField(field_id)\n",
        "\n",
        "field_code = ogr.FieldDefn(\"tree_code\", ogr.OFTString)\n",
        "field_code.SetWidth(8)\n",
        "layer.CreateField(field_code)\n",
        "\n",
        "layer.CreateField(ogr.FieldDefn(\"genus\", ogr.OFTString))\n",
        "layer.CreateField(ogr.FieldDefn(\"species\", ogr.OFTString))\n",
        "layer.CreateField(ogr.FieldDefn(\"dbh\", ogr.OFTReal))\n",
        "layer.CreateField(ogr.FieldDefn(\"ht\", ogr.OFTReal))\n",
        "layer.CreateField(ogr.FieldDefn(\"longitude\", ogr.OFTReal))\n",
        "layer.CreateField(ogr.FieldDefn(\"latitude\", ogr.OFTReal))\n",
        "\n",
        "#Abrimos el csv aquí de una forma diferente a Carolina, pero funciona.\n",
        "\n",
        "url = 'https://raw.githubusercontent.com/JoseCarlosPorto/SingularTree/main/arboles.csv'\n",
        "\n",
        "df = pd.read_csv(url)\n",
        "\n",
        "tree_id = df['tree_id']\n",
        "tree_code = df['tree_code']\n",
        "genus = df['genus']\n",
        "species = df['species']\n",
        "dbh = df['dbh']\n",
        "ht = df['ht']\n",
        "longitude = df['longitude']\n",
        "latitude = df['latitude']\n",
        "\n",
        "for i in range(0,3): #Aquí debería ponerse directamente la longitud del csv para automatizar, en vez de 3.\n",
        "    feature = ogr.Feature(layer.GetLayerDefn())\n",
        "    feature.SetField(\"tree_id\", int(tree_id[i]))\n",
        "    feature.SetField(\"tree_code\", tree_code[i])\n",
        "    feature.SetField(\"genus\", genus[i])\n",
        "    feature.SetField(\"species\", species[i])\n",
        "    feature.SetField(\"dbh\", dbh[i])\n",
        "    feature.SetField(\"ht\", ht[i])\n",
        "    feature.SetField(\"longitude\", longitude[i])\n",
        "    feature.SetField(\"latitude\", latitude[i])\n",
        "\n",
        "    # Create point geometry in LAT/LON\n",
        "    point = ogr.Geometry(ogr.wkbPoint)\n",
        "    point.Addpoint(int(latitude[i]),int(longitude[i]))\n",
        "\n",
        "    # Create de feature and set the values\n",
        "    feature.SetGeometry(point)\n",
        "    layer.CreateFeature(feature)\n",
        "\n",
        "    feature = None\n",
        "data_src = None"
      ],
      "execution_count": null,
      "outputs": []
    },
    {
      "cell_type": "markdown",
      "metadata": {
        "id": "lAxuxPWixOBl"
      },
      "source": [
        "Este script Funciona. Simplemente abre el csv usando la libreria pandas. Igual no nos interesa crear un shapefile, hay que ir viendo. Por lo menos aquí ya poderiamos acceder a la longitud y latitud de un csv enorme."
      ]
    },
    {
      "cell_type": "code",
      "metadata": {
        "id": "VJaCHRMYsRwk",
        "colab": {
          "base_uri": "https://localhost:8080/",
          "height": 571
        },
        "outputId": "b8faeb0f-86e0-4833-eaf8-90bebf023c3d"
      },
      "source": [
        "import pandas as pd\n",
        "import geopandas\n",
        "import matplotlib.pyplot as plt\n",
        "\n",
        "\n",
        "#Definimos la url del csv que está en GitHub, pero ojo, en modo raw.\n",
        "\n",
        "url = 'https://raw.githubusercontent.com/JoseCarlosPorto/SingularTree/main/arboles.csv'\n",
        "\n",
        "#Llamamos df el dataframe que contiene la totalidad del csv\n",
        "\n",
        "df = pd.read_csv(url)\n",
        "\n",
        "#Directamente creamos el shapefile de puntos a partir del csv usando geopandas\n",
        "#Ojo, estamos trabajando con pandas y geopandas que no es la forma tradicional en la que trabaja python\n",
        "#Creo que estamos usando archivos tipo json o algo asi\n",
        "\n",
        "gdf = geopandas.GeoDataFrame(\n",
        "    df, geometry=geopandas.points_from_xy(df.longitude, df.latitude))\n",
        "\n",
        "#Esto está bien, pero es innecesario pq el punto ya está creado con el geopandas\n",
        "#Se crea listas, aunque no son listas como tal, de cada uno de los campos del csv.\n",
        "'''\n",
        "tree_id = df['tree_id']\n",
        "tree_code = df['tree_code']\n",
        "genus = df['genus']\n",
        "species = df['species']\n",
        "dbh = df['dbh']\n",
        "ht = df['ht']\n",
        "longitude = df['longitude']\n",
        "latitude = df['latitude']\n",
        "\n",
        "\n",
        "\n",
        "\n",
        "#Con el bucle este se podría acceder a cada una de las lineas a nuestro antojo para trabajar con las coordenadas.\n",
        "\n",
        "for i in range(0,3): #Aquí debería ponerse directamente la longitud del csv para automatizar, en vez de 3.\n",
        "  print(tree_code[i], genus[i])\n",
        "'''\n",
        "\n",
        "#IDEA: Cojer aquí las coordenadas y empezar a crear con ellas el buffer sobre el dataset correspondiente\n",
        "#IDEA: Igual se podría cargar previamente el dataset, para tenerlo ya abierto antes de entrar en el bucle.\n",
        "#Habría que ver como convertir estas coordenadas en punto que coincida con el sistema de coordenaadas\n",
        "#Y despues aplicarle el buffer\n",
        "#Quizás habría que ver de guardar desde aquí el propio output que se obtenga.\n",
        "\n",
        "print(gdf)\n",
        "\n",
        "#Vamos intentar hacer el buffer alrededor del punto\n",
        "\n",
        "from shapely.geometry import Point\n",
        "\n",
        "gdf.crs = 'epsg:4326' #Here, I reproject the coordinates to the system I am using\n",
        "gdf = gdf.to_crs(epsg=3395)\n",
        "\n",
        "buffer = gdf.buffer(100, cap_style=3) # you might want to use 250, guessing from your image\n",
        "\n",
        "# Plot the results\n",
        "fig, ax1 = plt.subplots()\n",
        "buffer.head(1).boundary.plot(ax=ax1, color = 'slategrey')\n",
        "gdf.head(1).plot(ax = ax1, color = 'red')\n",
        "\n",
        "print(buffer)\n",
        "print(gdf)\n",
        "\n"
      ],
      "execution_count": 36,
      "outputs": [
        {
          "output_type": "stream",
          "text": [
            "   tree_id tree_code     genus  ... longitude   latitude                   geometry\n",
            "0        1  AS-AV-01  Fraxinus  ... -5.295226  40.183744  POINT (-5.29523 40.18374)\n",
            "1        2  AS-AV-03   Quercus  ... -4.959858  40.709539  POINT (-4.95986 40.70954)\n",
            "2        3  AS-AV-06     Pinus  ... -5.058944  40.297619  POINT (-5.05894 40.29762)\n",
            "\n",
            "[3 rows x 9 columns]\n",
            "0    POLYGON ((-589361.815 4865203.536, -589361.815...\n",
            "1    POLYGON ((-552028.878 4941817.742, -552028.878...\n",
            "2    POLYGON ((-563059.110 4881745.346, -563059.110...\n",
            "dtype: geometry\n",
            "   tree_id tree_code  ...   latitude                         geometry\n",
            "0        1  AS-AV-01  ...  40.183744  POINT (-589461.815 4865103.536)\n",
            "1        2  AS-AV-03  ...  40.709539  POINT (-552128.878 4941717.742)\n",
            "2        3  AS-AV-06  ...  40.297619  POINT (-563159.110 4881645.346)\n",
            "\n",
            "[3 rows x 9 columns]\n"
          ],
          "name": "stdout"
        },
        {
          "output_type": "display_data",
          "data": {
            "image/png": "[encoded data removed]",
            "text/plain": [
              "<Figure size 432x288 with 1 Axes>"
            ]
          },
          "metadata": {
            "tags": [],
            "needs_background": "light"
          }
        }
      ]
    },
    {
      "cell_type": "markdown",
      "metadata": {
        "id": "6_4QU-NCwx5x"
      },
      "source": [
        ""
      ]
    }
  ]
}