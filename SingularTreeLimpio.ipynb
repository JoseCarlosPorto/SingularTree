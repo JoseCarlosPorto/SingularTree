{
  "nbformat": 4,
  "nbformat_minor": 0,
  "metadata": {
    "colab": {
      "name": "SingularTreeLimpio.ipynb",
      "provenance": [],
      "authorship_tag": "ABX9TyNz+QNMBXdyN+51NqpbOSlR",
      "include_colab_link": true
    },
    "kernelspec": {
      "name": "python3",
      "display_name": "Python 3"
    },
    "language_info": {
      "name": "python"
    }
  },
  "cells": [
    {
      "cell_type": "markdown",
      "metadata": {
        "id": "view-in-github",
        "colab_type": "text"
      },
      "source": [
        "<a href=\"https://colab.research.google.com/github/JoseCarlosPorto/SingularTree/blob/main/SingularTreeLimpio.ipynb\" target=\"_parent\"><img src=\"https://colab.research.google.com/assets/colab-badge.svg\" alt=\"Open In Colab\"/></a>"
      ]
    },
    {
      "cell_type": "code",
      "metadata": {
        "colab": {
          "base_uri": "https://localhost:8080/"
        },
        "id": "0ZzQ3pimdSkD",
        "outputId": "8d188cf1-c75d-43f3-f1ba-945e4ae27aa4"
      },
      "source": [
        "import pandas as pd\n",
        "import geopandas\n",
        "import matplotlib.pyplot as plt\n",
        "\n",
        "\n",
        "#Definimos la url del csv que está en GitHub, pero ojo, en modo raw.\n",
        "\n",
        "url = 'https://raw.githubusercontent.com/JoseCarlosPorto/SingularTree/main/arboles.csv'\n",
        "\n",
        "#Llamamos df el dataframe que contiene la totalidad del csv\n",
        "\n",
        "df = pd.read_csv(url)\n",
        "\n",
        "#Directamente creamos el shapefile de puntos a partir del csv usando geopandas\n",
        "#Ojo, estamos trabajando con pandas y geopandas que no es la forma tradicional en la que trabaja python\n",
        "#Creo que estamos usando archivos tipo json o algo asi\n",
        "\n",
        "gdf = geopandas.GeoDataFrame(\n",
        "    df, geometry=geopandas.points_from_xy(df.longitude, df.latitude))\n",
        "\n",
        "print(gdf)"
      ],
      "execution_count": 3,
      "outputs": [
        {
          "output_type": "stream",
          "text": [
            "   tree_id tree_code     genus  ... longitude   latitude                   geometry\n",
            "0        1  AS-AV-01  Fraxinus  ... -5.295226  40.183744  POINT (-5.29523 40.18374)\n",
            "1        2  AS-AV-03   Quercus  ... -4.959858  40.709539  POINT (-4.95986 40.70954)\n",
            "2        3  AS-AV-06     Pinus  ... -5.058944  40.297619  POINT (-5.05894 40.29762)\n",
            "\n",
            "[3 rows x 9 columns]\n"
          ],
          "name": "stdout"
        }
      ]
    }
  ]
}