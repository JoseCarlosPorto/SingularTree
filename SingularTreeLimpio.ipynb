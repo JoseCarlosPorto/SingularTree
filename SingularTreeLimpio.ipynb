{
  "nbformat": 4,
  "nbformat_minor": 0,
  "metadata": {
    "colab": {
      "name": "SingularTreeLimpio.ipynb",
      "provenance": [],
      "authorship_tag": "ABX9TyMjr+w0dYh+9KGc8+QgONma",
      "include_colab_link": true
    },
    "kernelspec": {
      "name": "python3",
      "display_name": "Python 3"
    },
    "language_info": {
      "name": "python"
    }
  },
  "cells": [
    {
      "cell_type": "markdown",
      "metadata": {
        "id": "view-in-github",
        "colab_type": "text"
      },
      "source": [
        "<a href=\"https://colab.research.google.com/github/JoseCarlosPorto/SingularTree/blob/main/SingularTreeLimpio.ipynb\" target=\"_parent\"><img src=\"https://colab.research.google.com/assets/colab-badge.svg\" alt=\"Open In Colab\"/></a>"
      ]
    },
    {
      "cell_type": "code",
      "metadata": {
        "colab": {
          "base_uri": "https://localhost:8080/"
        },
        "id": "0ZzQ3pimdSkD",
        "outputId": "3882b5a4-7898-4914-fbf0-40c27323cbff"
      },
      "source": [
        "'''\n",
        "- Accedemos al csv que está en GitHub con los datos de los singular tree\n",
        "- Lo abrimos con la libreria pandas, y creamos un dataframe\n",
        "- Convertimos el dataframe en geodataframe, que es similar a un shapefile\n",
        "- Proyectamos las coordenadas en epsg=4326 y hacemos el buffer de 200 me alrededor de cada punto\n",
        "* Para hacer buffer que no estén en el centro creo que lo mejor sería crear 4 csv derivados del orgininal\n",
        "* Donde las coordenadas se obtengan en un rango aleatorio de +-75 metros, y de ese csv repetir todo el proceso.\n",
        "'''\n",
        "\n",
        "import pandas as pd\n",
        "import geopandas\n",
        "import matplotlib.pyplot as plt\n",
        "from shapely.geometry import Point\n",
        "\n",
        "#Definimos la url del csv que está en GitHub, pero ojo, en modo raw.\n",
        "\n",
        "url = 'https://raw.githubusercontent.com/JoseCarlosPorto/SingularTree/main/arboles.csv'\n",
        "\n",
        "#Llamamos df el dataframe que contiene la totalidad del csv\n",
        "\n",
        "df = pd.read_csv(url)\n",
        "\n",
        "#Directamente creamos el shapefile de puntos a partir del csv usando geopandas\n",
        "#Ojo, estamos trabajando con pandas y geopandas que no es la forma tradicional en la que trabaja python\n",
        "#Creo que estamos usando archivos tipo json o algo asi\n",
        "\n",
        "gdf = geopandas.GeoDataFrame(\n",
        "    df, geometry=geopandas.points_from_xy(df.longitude, df.latitude))\n",
        "\n",
        "#print(gdf)\n",
        "\n",
        "#Vamos intentar hacer el buffer alrededor del punto\n",
        "\n",
        "gdf.crs = 'epsg:4326' #Here, I reproject the coordinates to the system I am using\n",
        "gdf = gdf.to_crs(epsg=3395)\n",
        "\n",
        "buffer = gdf.buffer(100, cap_style=3) # you might want to use 250, guessing from your image\n",
        "\n",
        "# Plot the results\n",
        "\n",
        "#fig, ax1 = plt.subplots()\n",
        "#buffer.head(1).boundary.plot(ax=ax1, color = 'slategrey')\n",
        "#gdf.head(1).plot(ax = ax1, color = 'red')\n",
        "\n",
        "#print(buffer)"
      ],
      "execution_count": 4,
      "outputs": [
        {
          "output_type": "stream",
          "text": [
            "/usr/local/lib/python3.7/dist-packages/ipykernel_launcher.py:37: UserWarning: Geometry is in a geographic CRS. Results from 'buffer' are likely incorrect. Use 'GeoSeries.to_crs()' to re-project geometries to a projected CRS before this operation.\n",
            "\n"
          ],
          "name": "stderr"
        }
      ]
    }
  ]
}